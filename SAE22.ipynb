{
 "cells": [
  {
   "cell_type": "markdown",
   "metadata": {},
   "source": [
    "# SAE 22\n",
    "## Papot - Regnault // 3A"
   ]
  },
  {
   "cell_type": "code",
   "execution_count": 1,
   "metadata": {},
   "outputs": [],
   "source": [
    "import util_TP206"
   ]
  },
  {
   "cell_type": "code",
   "execution_count": 2,
   "metadata": {},
   "outputs": [],
   "source": [
    "from util_TP206 import *\n",
    "from pylab import *\n",
    "from sounddevice import *\n",
    "from soundfile import *\n",
    "from contextlib import *"
   ]
  },
  {
   "cell_type": "markdown",
   "metadata": {},
   "source": [
    "### Affichage des informations du fichier et de ses deux canaux (avec spectre d'amplitude)"
   ]
  },
  {
   "cell_type": "code",
   "execution_count": null,
   "metadata": {
    "scrolled": false
   },
   "outputs": [
    {
     "name": "stdout",
     "output_type": "stream",
     "text": [
      "Durée : 10.070322916666667s\n",
      "Nombre d'echantillons : 966751\n",
      "Frequence echantillonage : 96000Hz\n",
      "Pistes présentes : 2\n",
      "Nombre de bits par ech. : 24 bits\n"
     ]
    }
   ],
   "source": [
    "fic = \"NY_HDsample.flac\"\n",
    "file = read(fic)\n",
    "channel1 = file[0][1]\n",
    "channel2 = file[0][0]\n",
    "#print(len(file[0][0]))\n",
    "\n",
    "right, left = [], []\n",
    "\n",
    "for i in file[0]:\n",
    "    right.append(i[0])\n",
    "    left.append(i[1])\n",
    "\n",
    "ob = SoundFile('NY_HDsample.flac')\n",
    "\n",
    "#Print des données\n",
    "duree=len(file[0])/ob.samplerate\n",
    "print(\"Durée : \" + str(duree) + \"s\")\n",
    "print(\"Nombre d'echantillons : \" + str(len(file[0])))\n",
    "print(\"Frequence echantillonage : \" + str(ob.samplerate) + \"Hz\")\n",
    "print(\"Pistes présentes : \" + str(ob.channels))\n",
    "print(\"Nombre de bits par ech. : \"+ob.subtype[4:]+\" bits\")\n",
    "\n",
    "\n",
    "#Affichage de la figure\n",
    "figure(figsize=(30,10))\n",
    "title(\"Signal\")\n",
    "subplot(221)\n",
    "plot(left, 'r')\n",
    "grid()\n",
    "\n",
    "subplot(222)\n",
    "plot(right)\n",
    "grid()\n",
    "\n",
    "subplot(223)\n",
    "plotSpectreAmplitude(left, 96000)\n",
    "xlim(-5000,5000)\n",
    "grid()\n",
    "\n",
    "subplot(224)\n",
    "plotSpectreAmplitude(right, 96000)\n",
    "xlim(-5000,5000)\n",
    "grid()"
   ]
  },
  {
   "cell_type": "markdown",
   "metadata": {},
   "source": [
    "## Extrait d'une partie du son\n",
    ">Nous avons sélectionné seulement un extrait du son dans cette fonction.\n",
    "Dans cette fonction et les fonctions suivantes, nous avons séparé les channels stéréo gauche/droite avec une boucle \"for\", pour pouvoir les modifier."
   ]
  },
  {
   "cell_type": "code",
   "execution_count": 4,
   "metadata": {},
   "outputs": [],
   "source": [
    "fic = \"NY_HDsample_mini.flac\"\n",
    "file = read(fic)\n",
    "\n",
    "def extract(fic, time):\n",
    "    right, left = [], []\n",
    "    for i in file[0]:\n",
    "        right.append(i[0])\n",
    "        left.append(i[1])\n",
    "    duree=len(file[0])/ob.samplerate\n",
    "    echantdroit = (len(right)*time)/duree\n",
    "    echantgauch = (len(left)*time)/duree\n",
    "    extractdroit = right[0:int(echantdroit)]\n",
    "    extractgauch = left[0:int(echantgauch)]\n",
    "    #plot(left[0:int(echantdroit)])\n",
    "    fichier = [extractdroit, extractgauch]\n",
    "    return fichier\n",
    "\n",
    "extrait = extract(file, 1)\n",
    "\n",
    "#plot(extrait)\n",
    "#play(extract(1), 96000)\n",
    "\n",
    "#print(len(file[0]))\n",
    "#print(extrait)\n",
    "#print(\"Nombre d'echantillons dans l'extrait : \"+str(len(extract(fic, 1.2))))"
   ]
  },
  {
   "cell_type": "markdown",
   "metadata": {},
   "source": [
    "## Echantillonage\n",
    "> Nous avons sélectionné un échantillon sur 2, pour passer de 96 kHz à 48 kHz (soit de l'HD au SD)."
   ]
  },
  {
   "cell_type": "code",
   "execution_count": 6,
   "metadata": {},
   "outputs": [],
   "source": [
    "fic = \"NY_HDsample_mini.flac\"\n",
    "file = read(fic)\n",
    "\n",
    "\n",
    "def freqinf(file, freq):\n",
    "    right = file[0]\n",
    "    left = file[1]\n",
    "    rightech = right[::freq]\n",
    "    leftech = left[::freq]\n",
    "    return [rightech, leftech]\n",
    "#result = freqinf(file, 2)\n",
    "#print(len(result))"
   ]
  },
  {
   "cell_type": "markdown",
   "metadata": {},
   "source": [
    "## Quantification inférieure\n",
    ">Dans cette fonction, nous avons quantifié (uniformément) l'audio à un signal inférieur."
   ]
  },
  {
   "cell_type": "code",
   "execution_count": 7,
   "metadata": {
    "scrolled": true
   },
   "outputs": [
    {
     "data": {
      "image/png": "[encoded data removed]",
      "text/plain": [
       "<Figure size 432x288 with 2 Axes>"
      ]
     },
     "metadata": {
      "needs_background": "light"
     },
     "output_type": "display_data"
    }
   ],
   "source": [
    "\n",
    "right, left = [], []\n",
    "\n",
    "for i in file[0]:\n",
    "    right.append(i[0])\n",
    "    left.append(i[1])\n",
    "    \n",
    "def quantif_inf(nmin, nmax, right, left):\n",
    "    right = uniform_quantizer(right, 2**16, nmin, nmax)\n",
    "    left = uniform_quantizer(left, 2**16, nmin, nmax)\n",
    "    new = [right, left]\n",
    "    return new\n",
    "newnew = quantif_inf(-0.15,0.15,right,left)\n",
    "subplot(221)\n",
    "plot(newnew[0][0])\n",
    "grid()\n",
    "\n",
    "subplot(222)\n",
    "plot(newnew[1][0])\n",
    "grid()"
   ]
  },
  {
   "cell_type": "markdown",
   "metadata": {},
   "source": [
    "## Fonction finale\n",
    "> Voici la fonction finale, qui convertit un fichier SD en un fichier HD. Elle prend en argument le nom du fichier à convertir et le temps qu'elle doit en extraire."
   ]
  },
  {
   "cell_type": "code",
   "execution_count": 35,
   "metadata": {},
   "outputs": [
    {
     "name": "stdout",
     "output_type": "stream",
     "text": [
      "Fichier SD généré\n"
     ]
    },
    {
     "data": {
      "image/png": "[encoded data removed]",
      "text/plain": [
       "<Figure size 432x288 with 1 Axes>"
      ]
     },
     "metadata": {
      "needs_background": "light"
     },
     "output_type": "display_data"
    }
   ],
   "source": [
    "fic = \"NY_HDsample.flac\"\n",
    "file = read(fic)\n",
    "\n",
    "def HDtoSD(fic, t):\n",
    "    file = read(fic)\n",
    "    extrait = extract(file, t)\n",
    "    extrait = freqinf(extrait, 2)\n",
    "    extrait = quantif_inf(-0.15, 0.15, extrait[0], extrait[1])\n",
    "    tab = []\n",
    "    for i in range(len(extrait[0][0])):\n",
    "        tab.append([extrait[0][0][i],extrait[1][0][i]])\n",
    "    with SoundFile('new_sample.flac', 'w', 48000, 2, 'PCM_24') as f:\n",
    "        f.write(tab)\n",
    "    print('Fichier SD généré')    \n",
    "    return tab\n",
    "    \n",
    "res = HDtoSD(fic, 9)\n",
    "#print(res)\n",
    "#print(fic)\n",
    "#print(res)\n",
    "\n",
    "#subplot(221)\n",
    "plot(res)\n",
    "grid()\n",
    "\n",
    "#subplot(222)\n",
    "#plot(res[1][0])\n",
    "#grid()"
   ]
  },
  {
   "cell_type": "markdown",
   "metadata": {},
   "source": [
    "## Conclusion\n",
    "\n",
    ">Nous entendons quelques différences entre la version SD et la version HD, les graves sont notamment saturées (visible sur le spectre et à l'écoute)."
   ]
  }
 ],
 "metadata": {
  "kernelspec": {
   "display_name": "Python 3",
   "language": "python",
   "name": "python3"
  },
  "language_info": {
   "codemirror_mode": {
    "name": "ipython",
    "version": 3
   },
   "file_extension": ".py",
   "mimetype": "text/x-python",
   "name": "python",
   "nbconvert_exporter": "python",
   "pygments_lexer": "ipython3",
   "version": "3.7.3"
  }
 },
 "nbformat": 4,
 "nbformat_minor": 2
}
